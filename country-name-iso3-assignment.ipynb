{
 "cells": [
  {
   "cell_type": "code",
   "execution_count": null,
   "id": "4410089e",
   "metadata": {},
   "outputs": [],
   "source": [
    "# Libraries\n",
    "\n",
    "import pycountry\n",
    "import pandas as pd"
   ]
  },
  {
   "cell_type": "code",
   "execution_count": 80,
   "id": "f0598d73",
   "metadata": {},
   "outputs": [
    {
     "name": "stdout",
     "output_type": "stream",
     "text": [
      "['SYR', 'QAT', 'Unknown code', 'LBN', 'UKR', 'TUR', 'GBR', 'IRN', 'IRQ', 'PAK', 'TUN', 'DZA', 'UKR', 'Unknown code', 'MAR', 'IND', 'Unknown code', 'NZL', 'EGY', 'RUS', 'CAN', 'CAN', 'USA', 'IRQ', 'Unknown code', 'PAK', 'FRA', 'ARE', 'IRN', 'IDN', 'IND', 'Unknown code', 'YEM', 'YEM', 'IDN', 'AUS', 'IRN', 'EGY', 'IDN', 'SAU', 'ISR', 'BRA', 'Unknown code', 'ZMB', 'BGD', 'Unknown code', 'TUR', 'TUN', 'CHN', 'DEU', 'KAZ', 'QAT', 'JPN', 'ETH', 'PHL', 'IND', 'Unknown code', 'CHN', 'Unknown code', 'MYS', 'NPL', 'FRA', 'LBY', 'ITA', 'SDN', 'CUB', 'Unknown code', 'BRB', 'DZA', 'AUT', 'USA', 'ISL', 'Unknown code', 'HUN', 'DEU', 'ARM', 'ECU', 'NER', 'GRD', 'Unknown code', 'MDV', 'ALB', 'PLW', 'PRT', 'MAR', 'Unknown code', 'BEN', 'CUB', 'NGA', 'COL', 'GIN', 'MNE', 'MOZ', 'PRY', 'SSD', 'LIE', 'HTI', 'BHR', 'VNM', 'LBY', 'CHE', 'AZE', 'PRT', 'DMA', 'GNB', 'NIC', 'NER', 'Unknown code', 'KWT', 'MRT', 'CHL', 'ZWE', 'MEX', 'CMR', 'Unknown code', 'COM', 'URY', 'MLI', 'SRB', 'FIN', 'Unknown code', 'COM', 'URY', 'MLI', 'SGP', 'SRB', 'FIN', 'HND', 'Unknown code', 'MDG', 'COM', 'Unknown code', 'HTI', 'COL', 'CHN', 'MDG', 'CAF', 'BFA', 'Unknown code', 'MCO', 'CMR', 'CYP', 'PAN', 'EST', 'NRU', 'SVN', 'NAM', 'BEN', 'BGR', 'TTO', 'TJK', 'AND', 'UZB', 'KGZ', 'TCD', 'BGD', 'CPV', 'BHR', 'Unknown code', 'ECU', 'TGO', 'CHN', 'GAB', 'Unknown code', 'ARG', 'ESP', 'PRY', 'BWA', 'AGO', 'CHN', 'NIC', 'MEX', 'BLZ', 'TKM', 'SEN', 'UGA', 'SRB', 'AGO', 'GEO', 'MLI', 'SWZ', 'JPN', 'BLR', 'MNE', 'ARG', 'CRI', 'Unknown code', 'JAM', 'GUY', 'PAN', 'BHS', 'RWA', 'GMB', 'TCD', 'DJI', 'SWE', 'ARM', 'ZAF', 'MDV', 'GIN', 'CHE', 'BDI', 'COG', 'TKM', 'KHM', 'PER', 'OMN', 'ALB', 'TLS', 'IRL', 'DOM', 'SMR', 'BIH', 'GRC', 'PER', 'AND', 'WSM', 'MHL', 'DJI', 'MOZ', 'CHL', 'THA', 'LTU', 'GTM', 'KIR', 'MCO', 'LUX', 'Unknown code', 'KOR', 'SEN', 'HND', 'ROU', 'RUS', 'ARE', 'Unknown code', 'SYC', 'ESP', 'Unknown code', 'BLR', 'Unknown code', 'ARE', 'SDN', 'Unknown code', 'ARE', 'CRI', 'UZB', 'LBN', 'MNG', 'GNB', 'THA', 'Unknown code', 'COG', 'JOR', 'CAN', 'BTN', 'LBR', 'LUX', 'GAB', 'MRT', 'BEL', 'CHN', 'Unknown code', 'OMN', 'LAO', 'GHA', 'LSO', 'TJK', 'HRV', 'SLB', 'KGZ', 'VNM', 'LTU', 'TUV', 'SVK', 'GNQ', 'LVA', 'MUS', 'POL', 'BRA', 'MWI', 'SUR', 'FJI', 'TLS', 'MNG', 'DOM', 'SAU', 'DNK', 'POL', 'Unknown code', 'Unknown code', 'GNQ', 'LKA', 'URY', 'VUT', 'ITA', 'Unknown code', 'NOR', 'LCA', 'PNG', 'SOM', 'NLD', 'BDI', 'SLV', 'Unknown code', 'Unknown code', 'SLE', 'KWT', 'Unknown code', 'KHM', 'SLV', 'PRK', 'CAF', 'Unknown code']\n"
     ]
    }
   ],
   "source": [
    "# Countries should be with exact name in ISO.\n",
    "# e.g. NOT Islamic Republic of Iran, but \"Iran, Islamic Republic of\"\n",
    "# Do not put country names in between --> '' but use \"\" instead\n",
    "# It is best to organize your country names in a text editor, and then paste it here.\n",
    "\n",
    "input_countries = [\"Syrian Arab Republic\", \"Qatar\", \"United Nations\", \"Lebanon\", \"Ukraine\", \"Turkey\", \"United Kingdom\", \"Iran, Islamic Republic of\", \"Iraq\", \"Pakistan\", \"Tunisia\", \"Algeria\", \"Ukraine\", \"State of Palestine\", \"Morocco\", \"India\", \"United Nations\", \"New Zealand\", \"Egypt\", \"Russian Federation\", \"Canada\", \"Canada\", \"United States\", \"Iraq\", \"United Nations\", \"Pakistan\", \"France\", \"United Arab Emirates\", \"Iran, Islamic Republic of\", \"Indonesia\", \"India\", \"Bolivia\", \"Yemen\", \"Yemen\", \"Indonesia\", \"Australia\", \"Iran, Islamic Republic of\", \"Egypt\", \"Indonesia\", \"Saudi Arabia\", \"Israel\", \"Brazil\", \"Antigua & Barbuda\", \"Zambia\", \"Bangladesh\", \"Get Ready for #UNGA LIVE\", \"Turkey\", \"Tunisia\", \"China\", \"Germany\", \"Kazakhstan\", \"Qatar\", \"Japan\", \"Ethiopia\", \"Philippines\", \"India\", \"State of Palestine\", \"China\", \"Holy See\", \"Malaysia\", \"Nepal\", \"France\", \"Libya\", \"Italy\", \"Sudan\", \"Cuba\", \"#UNGA76\", \"Barbados\", \"Algeria\", \"Austria\", \"United States\", \"Iceland\", \"Venezuela\", \"Hungary\", \"Germany\", \"Armenia\", \"Ecuador\", \"Niger\", \"Grenada\", \"Czech Republic\", \"Maldives\", \"Albania\", \"Palau\", \"Portugal\", \"Morocco\", \"United Nations\", \"Benin\", \"Cuba\", \"Nigeria\", \"Colombia\", \"Guinea\", \"Montenegro\", \"Mozambique\", \"Paraguay\", \"South Sudan\", \"Liechtenstein\", \"Haiti\", \"Bahrain\", \"Viet Nam\", \"Libya\", \"Switzerland\", \"Azerbaijan\", \"Portugal\", \"Dominica\", \"Guinea-Bissau\", \"Nicaragua\", \"Niger\", \"Iran\", \"Kuwait\", \"Mauritania\", \"Chile\", \"Zimbabwe\", \"Mexico\", \"Cameroon\", \"Venezuela\", \"Comoros\", \"Uruguay\", \"Mali\", \"Serbia\", \"Finland\", \"Venezuela\", \"Comoros\", \"Uruguay\", \"Mali\", \"Singapore\", \"Serbia\", \"Finland\", \"Honduras\", \"Republic of Korea\", \"Madagascar\", \"Comoros\", \"Saint Vincent & Grenadines\", \"Haiti\", \"Colombia\", \"China\", \"Madagascar\", \"Central African Republic\", \"Burkina Faso\", \"Republic of North Macedonia\", \"Monaco\", \"Cameroon\", \"Cyprus\", \"Panama\", \"Estonia\", \"Nauru\", \"Slovenia\", \"Namibia\", \"Benin\", \"Bulgaria\", \"Trinidad and Tobago\", \"Tajikistan\", \"Andorra\", \"Uzbekistan\", \"Kyrgyzstan\", \"Chad\", \"Bangladesh\", \"Cabo Verde\", \"Bahrain\", \"Bolivia\", \"Ecuador\", \"Togo\", \"China\", \"Gabon\", \"European Union\", \"Argentina\", \"Spain\", \"Paraguay\", \"Botswana\", \"Angola\", \"China\", \"Nicaragua\", \"Mexico\", \"Belize\", \"Turkmenistan\", \"Senegal\", \"Uganda\", \"Serbia\", \"Angola\", \"Georgia\", \"Mali\", \"Eswatini\", \"Japan\", \"Belarus\", \"Montenegro\", \"Argentina\", \"Costa Rica\", \"Bosnia\", \"Jamaica\", \"Guyana\", \"Panama\", \"Bahamas\", \"Rwanda\", \"Gambia\", \"Chad\", \"Djibouti\", \"Sweden\", \"Armenia\", \"South Africa\", \"Maldives\", \"Guinea\", \"Switzerland\", \"Burundi\", \"Congo\", \"Turkmenistan\", \"Cambodia\", \"Peru\", \"Oman\", \"Albania\", \"Timor-Leste\", \"Ireland\", \"Dominican Republic\", \"San Marino\", \"Bosnia and Herzegovina\", \"Greece\", \"Peru\", \"Andorra\", \"Samoa\", \"Marshall Islands\", \"Djibouti\", \"Mozambique\", \"Chile\", \"Thailand\", \"Lithuania\", \"Guatemala\", \"Kiribati\", \"Monaco\", \"Luxembourg\", \"Moldova\", \"Korea, Republic of\", \"Senegal\", \"Honduras\", \"Romania\", \"Russian Federation\", \"United Arab Emirates\", \"European Union\", \"Seychelles\", \"Spain\", \"United Nations\", \"Belarus\", \"Micronesia\", \"United Arab Emirates\", \"Sudan\", \"Saint Kitts & Nevis\", \"United Arab Emirates\", \"Costa Rica\", \"Uzbekistan\", \"Lebanon\", \"Mongolia\", \"Guinea-Bissau\", \"Thailand\", \"Sao Tome & Principe\", \"Congo\", \"Jordan\", \"Canada\", \"Bhutan\", \"Liberia\", \"Luxembourg\", \"Gabon\", \"Mauritania\", \"Belgium\", \"China\", \"Sao Tome & Principe\", \"Oman\", \"Lao People's Democratic Republic\", \"Ghana\", \"Lesotho\", \"Tajikistan\", \"Croatia\", \"Solomon Islands\", \"Kyrgyzstan\", \"Viet Nam\", \"Lithuania\", \"Tuvalu\", \"Slovakia\", \"Equatorial Guinea\", \"Latvia\", \"Mauritius\", \"Poland\", \"Brazil\", \"Malawi\", \"Suriname\", \"Fiji\", \"Timor-Leste\", \"Mongolia\", \"Dominican Republic\", \"Saudi Arabia\", \"Denmark\", \"Poland\", \"Congo, the Democratic Republic of the\", \"Congo, the Democratic Republic of the\", \"Equatorial Guinea\", \"Sri Lanka\", \"Uruguay\", \"Vanuatu\", \"Italy\", \"Côte d'Ivoire the Republic of\", \"Norway\", \"Saint Lucia\", \"Papua New Guinea\", \"Somalia\", \"Netherlands\", \"Burundi\", \"El Salvador\", \"Republic of North Macedonia\", \"Côte d'Ivoire, the Republic of\", \"Sierra Leone\", \"Kuwait\", \"Korea, Democratic People's Rep. of\", \"Cambodia\", \"El Salvador\", \"Korea, Democratic People's Republic of\", \"Central African Republic\", \"United Nations\"]\n",
    "\n",
    "countries = {}\n",
    "for country in pycountry.countries:\n",
    "    countries[country.name] = country.alpha_3\n",
    "\n",
    "codes = [countries.get(country, 'Unknown code') for country in input_countries]\n",
    "\n",
    "print(codes)"
   ]
  },
  {
   "cell_type": "code",
   "execution_count": 83,
   "id": "8d7fce55",
   "metadata": {},
   "outputs": [],
   "source": [
    "# Storing these codes into a DataFrame together with \n",
    "\n",
    "df = pd.DataFrame(input_countries, codes)"
   ]
  },
  {
   "cell_type": "code",
   "execution_count": 84,
   "id": "047e0807",
   "metadata": {},
   "outputs": [],
   "source": [
    "# Writing to CSV\n",
    "\n",
    "df.to_csv('country_codes_unga2.csv')"
   ]
  }
 ],
 "metadata": {
  "kernelspec": {
   "display_name": "Python 3 (ipykernel)",
   "language": "python",
   "name": "python3"
  },
  "language_info": {
   "codemirror_mode": {
    "name": "ipython",
    "version": 3
   },
   "file_extension": ".py",
   "mimetype": "text/x-python",
   "name": "python",
   "nbconvert_exporter": "python",
   "pygments_lexer": "ipython3",
   "version": "3.9.7"
  }
 },
 "nbformat": 4,
 "nbformat_minor": 5
}
